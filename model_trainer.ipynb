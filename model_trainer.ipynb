{
 "cells": [
  {
   "cell_type": "code",
   "execution_count": 1,
   "metadata": {},
   "outputs": [
    {
     "name": "stderr",
     "output_type": "stream",
     "text": [
      "Using TensorFlow backend.\n"
     ]
    }
   ],
   "source": [
    "from keras.datasets import mnist\n",
    "import matplotlib.pyplot as plt\n",
    "import numpy as np\n",
    "from keras import models\n",
    "import glob\n",
    "import pandas as pd\n",
    "from PIL import Image\n",
    "from keras.utils import to_categorical\n",
    "from sklearn.model_selection import train_test_split\n",
    "from keras.models import Sequential\n",
    "from keras.models import model_from_json\n",
    "from keras.layers import Dense, Conv2D, Flatten\n",
    "from livelossplot import PlotLossesKeras\n"
   ]
  },
  {
   "cell_type": "markdown",
   "metadata": {},
   "source": [
    "## Загрузка данных"
   ]
  },
  {
   "cell_type": "code",
   "execution_count": 2,
   "metadata": {},
   "outputs": [],
   "source": [
    "filelist = glob.glob('images/*.png')\n",
    "data = [[np.array(Image.open(fname).resize((28, 28)).convert('L')).ravel(), int(fname.split('/')[1].split('.')[0])] for fname in filelist]\n",
    "\n"
   ]
  },
  {
   "cell_type": "code",
   "execution_count": 3,
   "metadata": {},
   "outputs": [],
   "source": [
    "pd_data = pd.DataFrame(data, columns=['image', 'label'])\n",
    "pd_data.rename(columns={\"label\": \"boxid\"}, inplace=True)\n",
    "pd_data = pd_data.astype({'boxid': 'int64'})\n",
    "target = pd.read_csv('./images_labelling.csv')\n",
    "target = target.astype({'boxid': 'int64'})"
   ]
  },
  {
   "cell_type": "markdown",
   "metadata": {},
   "source": [
    "## Препроцессинг"
   ]
  },
  {
   "cell_type": "code",
   "execution_count": 4,
   "metadata": {},
   "outputs": [],
   "source": [
    "all_data = pd.merge(pd_data, target, on='boxid', how='inner')\n",
    "\n",
    "train_images =np.reshape(np.array(list(map(lambda img: np.reshape(img, (1, 784)), all_data['image']))), (3750,784))\n",
    "train_target = np.array(all_data['label'])\n"
   ]
  },
  {
   "cell_type": "code",
   "execution_count": 5,
   "metadata": {},
   "outputs": [
    {
     "name": "stdout",
     "output_type": "stream",
     "text": [
      "(3000, 784) (3000, 1) (750, 1)\n"
     ]
    }
   ],
   "source": [
    "X_train, X_test, y_train, y_test = train_test_split(train_images, train_target, test_size=0.2, random_state=42)\n",
    "y_train = np.reshape(y_train.astype(int), (3000, 1))\n",
    "y_test = np.reshape(y_test.astype(int), (750, 1))\n",
    "batch_size =len(X_train)\n",
    "\n",
    "print(X_train.shape, y_train.shape, y_test.shape )"
   ]
  },
  {
   "cell_type": "code",
   "execution_count": 6,
   "metadata": {},
   "outputs": [],
   "source": [
    "# векторизаця данных\n",
    "X_train = X_train.reshape(3000, 28, 28, 1)\n",
    "X_test = X_test.reshape(750, 28, 28, 1)"
   ]
  },
  {
   "cell_type": "code",
   "execution_count": 7,
   "metadata": {},
   "outputs": [],
   "source": [
    "# приводим таргет фичу к one-hot-encode виду\n",
    "y_train = to_categorical(y_train)\n",
    "y_test = to_categorical(y_test)"
   ]
  },
  {
   "cell_type": "code",
   "execution_count": 8,
   "metadata": {},
   "outputs": [
    {
     "name": "stdout",
     "output_type": "stream",
     "text": [
      "WARNING:tensorflow:From /usr/local/lib/python3.7/site-packages/tensorflow/python/framework/op_def_library.py:263: colocate_with (from tensorflow.python.framework.ops) is deprecated and will be removed in a future version.\n",
      "Instructions for updating:\n",
      "Colocations handled automatically by placer.\n",
      "_________________________________________________________________\n",
      "Layer (type)                 Output Shape              Param #   \n",
      "=================================================================\n",
      "first_layer (Conv2D)         (None, 26, 26, 64)        640       \n",
      "_________________________________________________________________\n",
      "second_layer (Conv2D)        (None, 24, 24, 32)        18464     \n",
      "_________________________________________________________________\n",
      "flatten_1 (Flatten)          (None, 18432)             0         \n",
      "_________________________________________________________________\n",
      "dense_1 (Dense)              (None, 25)                460825    \n",
      "=================================================================\n",
      "Total params: 479,929\n",
      "Trainable params: 479,929\n",
      "Non-trainable params: 0\n",
      "_________________________________________________________________\n"
     ]
    }
   ],
   "source": [
    "#add model layers\n",
    "layer_1 = Conv2D(64, kernel_size=3, activation='tanh', input_shape=(28,28,1), name='first_layer')\n",
    "layer_2 = Conv2D(32, kernel_size=3, activation='tanh', name='second_layer')\n",
    "layer_3 = Flatten()\n",
    "layer_4 = Dense(25, activation='softmax')\n",
    "\n",
    "\n",
    "model = Sequential()\n",
    "model.add(layer_1)\n",
    "model.add(layer_2)\n",
    "model.add(layer_3)\n",
    "model.add(layer_4)\n",
    "model.compile(optimizer='adam', loss='categorical_crossentropy', metrics=['accuracy'])\n",
    "model.summary()"
   ]
  },
  {
   "cell_type": "code",
   "execution_count": 9,
   "metadata": {},
   "outputs": [
    {
     "name": "stdout",
     "output_type": "stream",
     "text": [
      "WARNING:tensorflow:From /usr/local/lib/python3.7/site-packages/tensorflow/python/ops/math_ops.py:3066: to_int32 (from tensorflow.python.ops.math_ops) is deprecated and will be removed in a future version.\n",
      "Instructions for updating:\n",
      "Use tf.cast instead.\n",
      "Train on 3000 samples, validate on 750 samples\n",
      "Epoch 1/20\n",
      "3000/3000 [==============================] - 10s 3ms/step - loss: 4.6341 - acc: 0.2137 - val_loss: 2.3793 - val_acc: 0.3627\n",
      "Epoch 2/20\n",
      "3000/3000 [==============================] - 12s 4ms/step - loss: 1.0880 - acc: 0.6597 - val_loss: 1.7252 - val_acc: 0.4560\n",
      "Epoch 3/20\n",
      "3000/3000 [==============================] - 16s 5ms/step - loss: 0.3718 - acc: 0.9133 - val_loss: 1.6343 - val_acc: 0.5027\n",
      "Epoch 4/20\n",
      "3000/3000 [==============================] - 12s 4ms/step - loss: 0.1257 - acc: 0.9897 - val_loss: 1.5404 - val_acc: 0.5293\n",
      "Epoch 5/20\n",
      "3000/3000 [==============================] - 12s 4ms/step - loss: 0.0542 - acc: 0.9987 - val_loss: 1.5121 - val_acc: 0.5373\n",
      "Epoch 6/20\n",
      "3000/3000 [==============================] - 10s 3ms/step - loss: 0.0297 - acc: 1.0000 - val_loss: 1.4874 - val_acc: 0.5373\n",
      "Epoch 7/20\n",
      "3000/3000 [==============================] - 12s 4ms/step - loss: 0.0206 - acc: 0.9997 - val_loss: 1.5126 - val_acc: 0.5320\n",
      "Epoch 8/20\n",
      "3000/3000 [==============================] - 11s 4ms/step - loss: 0.0165 - acc: 1.0000 - val_loss: 1.4979 - val_acc: 0.5347\n",
      "Epoch 9/20\n",
      "3000/3000 [==============================] - 16s 5ms/step - loss: 0.0134 - acc: 1.0000 - val_loss: 1.5132 - val_acc: 0.5333\n",
      "Epoch 10/20\n",
      "3000/3000 [==============================] - 12s 4ms/step - loss: 0.0112 - acc: 1.0000 - val_loss: 1.5088 - val_acc: 0.5467\n",
      "Epoch 11/20\n",
      "3000/3000 [==============================] - 15s 5ms/step - loss: 0.0097 - acc: 1.0000 - val_loss: 1.5200 - val_acc: 0.5467\n",
      "Epoch 12/20\n",
      "3000/3000 [==============================] - 16s 5ms/step - loss: 0.0084 - acc: 1.0000 - val_loss: 1.5263 - val_acc: 0.5480\n",
      "Epoch 13/20\n",
      "3000/3000 [==============================] - 11s 4ms/step - loss: 0.0073 - acc: 1.0000 - val_loss: 1.5339 - val_acc: 0.5493\n",
      "Epoch 14/20\n",
      "3000/3000 [==============================] - 11s 4ms/step - loss: 0.0066 - acc: 1.0000 - val_loss: 1.5491 - val_acc: 0.5493\n",
      "Epoch 15/20\n",
      "3000/3000 [==============================] - 11s 4ms/step - loss: 0.0059 - acc: 1.0000 - val_loss: 1.5591 - val_acc: 0.5467\n",
      "Epoch 16/20\n",
      "3000/3000 [==============================] - 11s 4ms/step - loss: 0.0052 - acc: 1.0000 - val_loss: 1.5607 - val_acc: 0.5467\n",
      "Epoch 17/20\n",
      "3000/3000 [==============================] - 12s 4ms/step - loss: 0.0046 - acc: 1.0000 - val_loss: 1.5715 - val_acc: 0.5400\n",
      "Epoch 18/20\n",
      "3000/3000 [==============================] - 12s 4ms/step - loss: 0.0042 - acc: 1.0000 - val_loss: 1.5741 - val_acc: 0.5520\n",
      "Epoch 19/20\n",
      "3000/3000 [==============================] - 11s 4ms/step - loss: 0.0038 - acc: 1.0000 - val_loss: 1.5808 - val_acc: 0.5507\n",
      "Epoch 20/20\n",
      "3000/3000 [==============================] - 11s 4ms/step - loss: 0.0035 - acc: 1.0000 - val_loss: 1.5868 - val_acc: 0.5480\n"
     ]
    }
   ],
   "source": [
    "history = model.fit(X_train, y_train, validation_data=(X_test, y_test), epochs=20, verbose=1)\n"
   ]
  },
  {
   "cell_type": "code",
   "execution_count": 10,
   "metadata": {},
   "outputs": [
    {
     "data": {
      "image/png": "[encoded data removed]",
      "text/plain": [
       "<Figure size 432x288 with 1 Axes>"
      ]
     },
     "metadata": {
      "needs_background": "light"
     },
     "output_type": "display_data"
    },
    {
     "data": {
      "image/png": "[encoded data removed]",
      "text/plain": [
       "<Figure size 432x288 with 1 Axes>"
      ]
     },
     "metadata": {
      "needs_background": "light"
     },
     "output_type": "display_data"
    }
   ],
   "source": [
    "# summarize history for accuracy\n",
    "# history.history['val_loss']\n",
    "plt.plot(history.history['acc'])\n",
    "plt.plot(history.history['val_acc'])\n",
    "plt.title('model accuracy')\n",
    "plt.ylabel('accuracy')\n",
    "plt.xlabel('epoch')\n",
    "plt.legend(['train', 'test'], loc='upper left')\n",
    "plt.show()\n",
    "# # summarize history for loss\n",
    "plt.plot(history.history['loss'])\n",
    "plt.plot(history.history['val_loss'])\n",
    "plt.title('model loss')\n",
    "plt.ylabel('loss')\n",
    "plt.xlabel('epoch')\n",
    "plt.legend(['train', 'test'], loc='upper left')\n",
    "plt.show()"
   ]
  },
  {
   "cell_type": "code",
   "execution_count": 11,
   "metadata": {},
   "outputs": [
    {
     "name": "stdout",
     "output_type": "stream",
     "text": [
      "Saved model to disk\n"
     ]
    }
   ],
   "source": [
    "model_json = model.to_json()\n",
    "with open(\"model.json\", \"w\") as json_file:\n",
    "    json_file.write(model_json)\n",
    "# serialize weights to HDF5\n",
    "model.save_weights(\"model.h5\")\n",
    "print(\"Saved model to disk\")"
   ]
  }
 ],
 "metadata": {
  "kernelspec": {
   "display_name": "Python 3",
   "language": "python",
   "name": "python3"
  },
  "language_info": {
   "codemirror_mode": {
    "name": "ipython",
    "version": 3
   },
   "file_extension": ".py",
   "mimetype": "text/x-python",
   "name": "python",
   "nbconvert_exporter": "python",
   "pygments_lexer": "ipython3",
   "version": "3.7.3"
  }
 },
 "nbformat": 4,
 "nbformat_minor": 2
}
